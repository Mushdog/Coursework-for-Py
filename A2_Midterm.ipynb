{
 "cells": [
  {
   "cell_type": "markdown",
   "id": "cbe5bce4",
   "metadata": {},
   "source": [
    "# 1.Preparation and reference\n",
    "\n",
    "### In this notebook I have used KNN regression and Classification on Abalone  dataset  and further improved using Bagging and Boosting using python scikit and sklearn libraries.I sorry the font appears very large when converted to pdf and takes up a large part of the page.\n",
    "\n",
    "### Abalone Data Set（abalone.data） from UCI Machine Learning Repository\n",
    "http://archive.ics.uci.edu/ml/datasets/Abalone \n",
    "\n",
    "### Reference\n",
    "[1]https://www.kaggle.com/code/errearanhas/knn-regression-bagging-on-abalone-data/notebook\n",
    "\n",
    "[2]https://github.com/dineshtpalanisamy/KNN-Regression-and-Classification/blob/main/KNN%20Regressor%20and%20Classifier.ipynb\n",
    "\n",
    "[3]https://medium.com/analytics-vidhya/ensemble-learning-bagging-f9329e07fc22               \n",
    "\n",
    "by LYU."
   ]
  },
  {
   "cell_type": "markdown",
   "id": "3c83bb4b",
   "metadata": {},
   "source": [
    "# The Abalone Problem\n",
    "\n",
    "### The age of an Abalone can be found by counting the number of rings on its cutted shell. In the Abalone Dataset, there are age measurements of Abalones, along with some physical measurements.\n",
    "\n",
    "### The project goal is to apply a model to predict an Abalone's age based purely on its physical measurements. This would allow Abalone’s age estimation without having to cut its shell.In addition, we will also try to reduce the variables in order to save the measurement effort."
   ]
  },
  {
   "cell_type": "markdown",
   "id": "462c1fb1",
   "metadata": {},
   "source": [
    "# KNN classifier and Bagging Problem\n",
    "\n",
    "Is it pointless to use Bagging with nearest neighbor classifiers?    \n",
    "\n",
    "--\"It is pointless to bag nearest-neighbor classifiers because their output changes very little if the training data is perturbed by sampling.\"      \n",
    "\n",
    "--\"The lower k the more unstable the model will be. The more we modify the dataset, the higher probability the use a different set of neighbors. If you take k=1 and modify the dataset enough so the probability of getting the same neighbor is less then 80%, bagging should help. I think the the use case Breiman had in mind is a higher k and more delicate modifications. If you have k of 10 and probability of having the same neighbour of 99%, the results will be quite stable.\"\n",
    "\n",
    "https://stats.stackexchange.com/questions/314526/is-it-pointless-to-use-bagging-with-nearest-neighbor-classifiers"
   ]
  },
  {
   "cell_type": "code",
   "execution_count": 276,
   "id": "a53bb960",
   "metadata": {},
   "outputs": [],
   "source": [
    "import numpy as np\n",
    "import pandas as pd\n",
    "from scipy import stats\n",
    "from scipy.stats import normaltest\n",
    "import seaborn as sns\n",
    "from sklearn.model_selection import train_test_split\n",
    "from sklearn.neighbors import KNeighborsRegressor\n",
    "from sklearn.model_selection import GridSearchCV\n",
    "from sklearn.metrics import mean_squared_error\n",
    "from sklearn.ensemble import BaggingRegressor\n",
    "from sklearn.preprocessing import MinMaxScaler\n",
    "%matplotlib inline\n",
    "\n",
    "np.set_printoptions(suppress=True)"
   ]
  },
  {
   "cell_type": "markdown",
   "id": "8925ae9b",
   "metadata": {},
   "source": [
    "# 2.Preprocessing\n",
    "\n",
    "### According to the analysis results of last semester's report:\n",
    "\n",
    "### The \"Rings\" variable is the number of abalone rings, which can represent the age of abalone and is a predictor variable. All are continuous variables except for \"sex\" which is a discrete feature.\n",
    "\n",
    "### From the following analysis, we can learn that \n",
    "### ・There is no missing data.\n",
    "### ・There are 4177 rows of data.\n",
    "### ・There are no extreme values.\n",
    "### ・The data are not normalized. \n",
    "### ・The scales are different for different variables."
   ]
  },
  {
   "cell_type": "code",
   "execution_count": 277,
   "id": "06f6521b",
   "metadata": {},
   "outputs": [
    {
     "data": {
      "text/html": [
       "<div>\n",
       "<style scoped>\n",
       "    .dataframe tbody tr th:only-of-type {\n",
       "        vertical-align: middle;\n",
       "    }\n",
       "\n",
       "    .dataframe tbody tr th {\n",
       "        vertical-align: top;\n",
       "    }\n",
       "\n",
       "    .dataframe thead th {\n",
       "        text-align: right;\n",
       "    }\n",
       "</style>\n",
       "<table border=\"1\" class=\"dataframe\">\n",
       "  <thead>\n",
       "    <tr style=\"text-align: right;\">\n",
       "      <th></th>\n",
       "      <th>Sex</th>\n",
       "      <th>Length</th>\n",
       "      <th>Diameter</th>\n",
       "      <th>Height</th>\n",
       "      <th>Whole_wt</th>\n",
       "      <th>Shucked_wt</th>\n",
       "      <th>Viscera_wt</th>\n",
       "      <th>Shell_wt</th>\n",
       "      <th>Rings</th>\n",
       "    </tr>\n",
       "  </thead>\n",
       "  <tbody>\n",
       "    <tr>\n",
       "      <th>0</th>\n",
       "      <td>M</td>\n",
       "      <td>0.4550</td>\n",
       "      <td>0.3650</td>\n",
       "      <td>0.0950</td>\n",
       "      <td>0.5140</td>\n",
       "      <td>0.2245</td>\n",
       "      <td>0.1010</td>\n",
       "      <td>0.1500</td>\n",
       "      <td>15</td>\n",
       "    </tr>\n",
       "    <tr>\n",
       "      <th>1</th>\n",
       "      <td>M</td>\n",
       "      <td>0.3500</td>\n",
       "      <td>0.2650</td>\n",
       "      <td>0.0900</td>\n",
       "      <td>0.2255</td>\n",
       "      <td>0.0995</td>\n",
       "      <td>0.0485</td>\n",
       "      <td>0.0700</td>\n",
       "      <td>7</td>\n",
       "    </tr>\n",
       "    <tr>\n",
       "      <th>2</th>\n",
       "      <td>F</td>\n",
       "      <td>0.5300</td>\n",
       "      <td>0.4200</td>\n",
       "      <td>0.1350</td>\n",
       "      <td>0.6770</td>\n",
       "      <td>0.2565</td>\n",
       "      <td>0.1415</td>\n",
       "      <td>0.2100</td>\n",
       "      <td>9</td>\n",
       "    </tr>\n",
       "    <tr>\n",
       "      <th>3</th>\n",
       "      <td>M</td>\n",
       "      <td>0.4400</td>\n",
       "      <td>0.3650</td>\n",
       "      <td>0.1250</td>\n",
       "      <td>0.5160</td>\n",
       "      <td>0.2155</td>\n",
       "      <td>0.1140</td>\n",
       "      <td>0.1550</td>\n",
       "      <td>10</td>\n",
       "    </tr>\n",
       "    <tr>\n",
       "      <th>4</th>\n",
       "      <td>I</td>\n",
       "      <td>0.3300</td>\n",
       "      <td>0.2550</td>\n",
       "      <td>0.0800</td>\n",
       "      <td>0.2050</td>\n",
       "      <td>0.0895</td>\n",
       "      <td>0.0395</td>\n",
       "      <td>0.0550</td>\n",
       "      <td>7</td>\n",
       "    </tr>\n",
       "  </tbody>\n",
       "</table>\n",
       "</div>"
      ],
      "text/plain": [
       "  Sex  Length  Diameter  Height  Whole_wt  Shucked_wt  Viscera_wt  Shell_wt  \\\n",
       "0   M  0.4550    0.3650  0.0950    0.5140      0.2245      0.1010    0.1500   \n",
       "1   M  0.3500    0.2650  0.0900    0.2255      0.0995      0.0485    0.0700   \n",
       "2   F  0.5300    0.4200  0.1350    0.6770      0.2565      0.1415    0.2100   \n",
       "3   M  0.4400    0.3650  0.1250    0.5160      0.2155      0.1140    0.1550   \n",
       "4   I  0.3300    0.2550  0.0800    0.2050      0.0895      0.0395    0.0550   \n",
       "\n",
       "   Rings  \n",
       "0     15  \n",
       "1      7  \n",
       "2      9  \n",
       "3     10  \n",
       "4      7  "
      ]
     },
     "execution_count": 277,
     "metadata": {},
     "output_type": "execute_result"
    }
   ],
   "source": [
    "url = (\"https://archive.ics.uci.edu/ml/machine-learning-databases/abalone/abalone.data\" )\n",
    "abalone = pd.read_csv(url, names=['Sex', 'Length','Diameter','Height','Whole_wt','Shucked_wt','Viscera_wt','Shell_wt','Rings'])\n",
    "abalone.head()"
   ]
  },
  {
   "cell_type": "code",
   "execution_count": 278,
   "id": "cf53c450",
   "metadata": {},
   "outputs": [],
   "source": [
    "abalone.Sex = abalone.Sex.map({'M':0, 'F':1, 'I':2})"
   ]
  },
  {
   "cell_type": "code",
   "execution_count": 279,
   "id": "0a9ba74c",
   "metadata": {},
   "outputs": [
    {
     "name": "stdout",
     "output_type": "stream",
     "text": [
      "<class 'pandas.core.frame.DataFrame'>\n",
      "RangeIndex: 4177 entries, 0 to 4176\n",
      "Data columns (total 9 columns):\n",
      " #   Column      Non-Null Count  Dtype  \n",
      "---  ------      --------------  -----  \n",
      " 0   Sex         4177 non-null   int64  \n",
      " 1   Length      4177 non-null   float64\n",
      " 2   Diameter    4177 non-null   float64\n",
      " 3   Height      4177 non-null   float64\n",
      " 4   Whole_wt    4177 non-null   float64\n",
      " 5   Shucked_wt  4177 non-null   float64\n",
      " 6   Viscera_wt  4177 non-null   float64\n",
      " 7   Shell_wt    4177 non-null   float64\n",
      " 8   Rings       4177 non-null   int64  \n",
      "dtypes: float64(7), int64(2)\n",
      "memory usage: 293.8 KB\n"
     ]
    }
   ],
   "source": [
    "abalone.info()"
   ]
  },
  {
   "cell_type": "code",
   "execution_count": 323,
   "id": "88d2af9d",
   "metadata": {},
   "outputs": [
    {
     "data": {
      "text/plain": [
       "<AxesSubplot: >"
      ]
     },
     "execution_count": 323,
     "metadata": {},
     "output_type": "execute_result"
    },
    {
     "data": {
      "image/png": "[encoded data removed]",
      "text/plain": [
       "<Figure size 500x500 with 1 Axes>"
      ]
     },
     "metadata": {},
     "output_type": "display_data"
    }
   ],
   "source": [
    "plt.figure(figsize=(5,5))\n",
    "abalone['Rings'].value_counts().plot(kind='bar')"
   ]
  },
  {
   "cell_type": "markdown",
   "id": "014bd063",
   "metadata": {},
   "source": [
    "## The barplot shows us that most Abalones here are amongst 7 and 11 rings, with high predominance of 9 rings.Another clear conclusion is that older Abalones are underrepresented in this dataset.\n",
    "\n",
    "Let's now check correlation between all features and \"Rings\", to get an intuition of features that can help us predicting \"Rings\":"
   ]
  },
  {
   "cell_type": "code",
   "execution_count": 281,
   "id": "6224508f",
   "metadata": {},
   "outputs": [
    {
     "data": {
      "text/plain": [
       "Sex          -0.3518\n",
       "Shucked_wt    0.4209\n",
       "Viscera_wt    0.5038\n",
       "Whole_wt      0.5404\n",
       "Length        0.5567\n",
       "Height        0.5575\n",
       "Diameter      0.5747\n",
       "Shell_wt      0.6276\n",
       "Rings         1.0000\n",
       "Name: Rings, dtype: float64"
      ]
     },
     "execution_count": 281,
     "metadata": {},
     "output_type": "execute_result"
    }
   ],
   "source": [
    "abalone.corr()['Rings'].sort_values()"
   ]
  },
  {
   "cell_type": "markdown",
   "id": "a0f39144",
   "metadata": {},
   "source": [
    "### remove features \"Sex\" (it isn't a physical measurement) and \"Shucked weight\" (correlation under an arbitrary threshold of 0.5)\n"
   ]
  },
  {
   "cell_type": "code",
   "execution_count": 282,
   "id": "31ecb0e7",
   "metadata": {},
   "outputs": [],
   "source": [
    "abalone_filter = abalone.drop([\"Sex\",\"Shucked_wt\"], axis=1)\n"
   ]
  },
  {
   "cell_type": "code",
   "execution_count": 283,
   "id": "bc216788",
   "metadata": {},
   "outputs": [],
   "source": [
    "X = abalone_filter.drop('Rings', axis=1).values\n",
    "y = abalone_filter['Rings'].values\n"
   ]
  },
  {
   "cell_type": "markdown",
   "id": "8077fef5",
   "metadata": {},
   "source": [
    "# 3.Build KNN Regression model\n"
   ]
  },
  {
   "cell_type": "markdown",
   "id": "f7d03a61",
   "metadata": {},
   "source": [
    "First,apply a kNN with k = 3 on a new abalone that has the following physical measurements:"
   ]
  },
  {
   "cell_type": "code",
   "execution_count": 284,
   "id": "e523e225",
   "metadata": {},
   "outputs": [],
   "source": [
    "new_data_point = np.array([\n",
    "    0.569552,#Length\n",
    "    0.446407,#Diameter\n",
    "    0.154437,#Height\n",
    "    1.016849,#Whole_wt\n",
    "    0.222526,#Viscera_wt\n",
    "    0.291208,#Shell_wt \n",
    " ])"
   ]
  },
  {
   "cell_type": "code",
   "execution_count": 285,
   "id": "039d9b40",
   "metadata": {},
   "outputs": [
    {
     "name": "stdout",
     "output_type": "stream",
     "text": [
      "[0.55753691 0.88922156 0.36234898 ... 0.18475359 0.11007487 0.98304435]\n"
     ]
    }
   ],
   "source": [
    "distances = np.linalg.norm(X - new_data_point, axis=1)\n",
    "print(distances)"
   ]
  },
  {
   "cell_type": "markdown",
   "id": "d8eabede",
   "metadata": {},
   "source": [
    "we now have a vector of distances, and we need to find out which are the three closest neighbors. To do this, we need to find the IDs of the minimum distances. we can use a method called .argsort() to sort the array from lowest to highest, and we can take the first k elements to obtain the indices of the k nearest neighbors:"
   ]
  },
  {
   "cell_type": "code",
   "execution_count": 286,
   "id": "e9c1a29a",
   "metadata": {},
   "outputs": [
    {
     "name": "stdout",
     "output_type": "stream",
     "text": [
      "[1902  993 1792]\n"
     ]
    }
   ],
   "source": [
    "k = 3\n",
    "nearest_neighbor_ids = distances.argsort()[:k]\n",
    "print(nearest_neighbor_ids)"
   ]
  },
  {
   "cell_type": "markdown",
   "id": "64308e35",
   "metadata": {},
   "source": [
    "This tells we which three neighbors are closest to your new_data_point. In the next paragraph, we'll see how to convert those neighbors in an estimation."
   ]
  },
  {
   "cell_type": "markdown",
   "id": "0a1637ee",
   "metadata": {},
   "source": [
    "### Comparing with the results of reference [2], I simply dropped the Shucked_wt variable, however the ids of the nearest neighbors all changed. I found that the probability of neighbors' appearance is unstable when k is smaller."
   ]
  },
  {
   "cell_type": "markdown",
   "id": "a22f49ee",
   "metadata": {},
   "source": [
    "### Voting or Averaging of Multiple Neighbors"
   ]
  },
  {
   "cell_type": "code",
   "execution_count": 287,
   "id": "4e889cd6",
   "metadata": {},
   "outputs": [
    {
     "name": "stdout",
     "output_type": "stream",
     "text": [
      "[11 10  9]\n"
     ]
    }
   ],
   "source": [
    "nearest_neighbor_rings = y[nearest_neighbor_ids]\n",
    "print(nearest_neighbor_rings)\n"
   ]
  },
  {
   "cell_type": "code",
   "execution_count": 288,
   "id": "829f7241",
   "metadata": {},
   "outputs": [
    {
     "name": "stdout",
     "output_type": "stream",
     "text": [
      "10.0\n"
     ]
    }
   ],
   "source": [
    "prediction = nearest_neighbor_rings.mean()\n",
    "print(prediction)\n"
   ]
  },
  {
   "cell_type": "markdown",
   "id": "ee26ce5c",
   "metadata": {},
   "source": [
    "That is, we combine multiple neighbors into one prediction by taking the average of their target variable values. For the new data point, the prediction is 10rings."
   ]
  },
  {
   "cell_type": "markdown",
   "id": "c97d61d8",
   "metadata": {},
   "source": [
    "### Feature Scaling"
   ]
  },
  {
   "cell_type": "code",
   "execution_count": 289,
   "id": "9d3d67c4",
   "metadata": {},
   "outputs": [],
   "source": [
    "#Feature Scaling  MinMax Scaler\n",
    "minmax=MinMaxScaler()\n",
    "X=minmax.fit_transform(X)\n",
    "\n",
    "X_train, X_test, y_train, y_test = train_test_split(X, y, test_size=0.2, random_state=42)\n"
   ]
  },
  {
   "cell_type": "code",
   "execution_count": 290,
   "id": "cb5dad82",
   "metadata": {},
   "outputs": [],
   "source": [
    "knn_model = KNeighborsRegressor(n_neighbors=3)"
   ]
  },
  {
   "cell_type": "code",
   "execution_count": 291,
   "id": "dbe00052",
   "metadata": {},
   "outputs": [
    {
     "data": {
      "text/html": [
       "<style>#sk-container-id-26 {color: black;background-color: white;}#sk-container-id-26 pre{padding: 0;}#sk-container-id-26 div.sk-toggleable {background-color: white;}#sk-container-id-26 label.sk-toggleable__label {cursor: pointer;display: block;width: 100%;margin-bottom: 0;padding: 0.3em;box-sizing: border-box;text-align: center;}#sk-container-id-26 label.sk-toggleable__label-arrow:before {content: \"▸\";float: left;margin-right: 0.25em;color: #696969;}#sk-container-id-26 label.sk-toggleable__label-arrow:hover:before {color: black;}#sk-container-id-26 div.sk-estimator:hover label.sk-toggleable__label-arrow:before {color: black;}#sk-container-id-26 div.sk-toggleable__content {max-height: 0;max-width: 0;overflow: hidden;text-align: left;background-color: #f0f8ff;}#sk-container-id-26 div.sk-toggleable__content pre {margin: 0.2em;color: black;border-radius: 0.25em;background-color: #f0f8ff;}#sk-container-id-26 input.sk-toggleable__control:checked~div.sk-toggleable__content {max-height: 200px;max-width: 100%;overflow: auto;}#sk-container-id-26 input.sk-toggleable__control:checked~label.sk-toggleable__label-arrow:before {content: \"▾\";}#sk-container-id-26 div.sk-estimator input.sk-toggleable__control:checked~label.sk-toggleable__label {background-color: #d4ebff;}#sk-container-id-26 div.sk-label input.sk-toggleable__control:checked~label.sk-toggleable__label {background-color: #d4ebff;}#sk-container-id-26 input.sk-hidden--visually {border: 0;clip: rect(1px 1px 1px 1px);clip: rect(1px, 1px, 1px, 1px);height: 1px;margin: -1px;overflow: hidden;padding: 0;position: absolute;width: 1px;}#sk-container-id-26 div.sk-estimator {font-family: monospace;background-color: #f0f8ff;border: 1px dotted black;border-radius: 0.25em;box-sizing: border-box;margin-bottom: 0.5em;}#sk-container-id-26 div.sk-estimator:hover {background-color: #d4ebff;}#sk-container-id-26 div.sk-parallel-item::after {content: \"\";width: 100%;border-bottom: 1px solid gray;flex-grow: 1;}#sk-container-id-26 div.sk-label:hover label.sk-toggleable__label {background-color: #d4ebff;}#sk-container-id-26 div.sk-serial::before {content: \"\";position: absolute;border-left: 1px solid gray;box-sizing: border-box;top: 0;bottom: 0;left: 50%;z-index: 0;}#sk-container-id-26 div.sk-serial {display: flex;flex-direction: column;align-items: center;background-color: white;padding-right: 0.2em;padding-left: 0.2em;position: relative;}#sk-container-id-26 div.sk-item {position: relative;z-index: 1;}#sk-container-id-26 div.sk-parallel {display: flex;align-items: stretch;justify-content: center;background-color: white;position: relative;}#sk-container-id-26 div.sk-item::before, #sk-container-id-26 div.sk-parallel-item::before {content: \"\";position: absolute;border-left: 1px solid gray;box-sizing: border-box;top: 0;bottom: 0;left: 50%;z-index: -1;}#sk-container-id-26 div.sk-parallel-item {display: flex;flex-direction: column;z-index: 1;position: relative;background-color: white;}#sk-container-id-26 div.sk-parallel-item:first-child::after {align-self: flex-end;width: 50%;}#sk-container-id-26 div.sk-parallel-item:last-child::after {align-self: flex-start;width: 50%;}#sk-container-id-26 div.sk-parallel-item:only-child::after {width: 0;}#sk-container-id-26 div.sk-dashed-wrapped {border: 1px dashed gray;margin: 0 0.4em 0.5em 0.4em;box-sizing: border-box;padding-bottom: 0.4em;background-color: white;}#sk-container-id-26 div.sk-label label {font-family: monospace;font-weight: bold;display: inline-block;line-height: 1.2em;}#sk-container-id-26 div.sk-label-container {text-align: center;}#sk-container-id-26 div.sk-container {/* jupyter's `normalize.less` sets `[hidden] { display: none; }` but bootstrap.min.css set `[hidden] { display: none !important; }` so we also need the `!important` here to be able to override the default hidden behavior on the sphinx rendered scikit-learn.org. See: https://github.com/scikit-learn/scikit-learn/issues/21755 */display: inline-block !important;position: relative;}#sk-container-id-26 div.sk-text-repr-fallback {display: none;}</style><div id=\"sk-container-id-26\" class=\"sk-top-container\"><div class=\"sk-text-repr-fallback\"><pre>KNeighborsRegressor(n_neighbors=3)</pre><b>In a Jupyter environment, please rerun this cell to show the HTML representation or trust the notebook. <br />On GitHub, the HTML representation is unable to render, please try loading this page with nbviewer.org.</b></div><div class=\"sk-container\" hidden><div class=\"sk-item\"><div class=\"sk-estimator sk-toggleable\"><input class=\"sk-toggleable__control sk-hidden--visually\" id=\"sk-estimator-id-46\" type=\"checkbox\" checked><label for=\"sk-estimator-id-46\" class=\"sk-toggleable__label sk-toggleable__label-arrow\">KNeighborsRegressor</label><div class=\"sk-toggleable__content\"><pre>KNeighborsRegressor(n_neighbors=3)</pre></div></div></div></div></div>"
      ],
      "text/plain": [
       "KNeighborsRegressor(n_neighbors=3)"
      ]
     },
     "execution_count": 291,
     "metadata": {},
     "output_type": "execute_result"
    }
   ],
   "source": [
    "knn_model.fit(X_train, y_train)"
   ]
  },
  {
   "cell_type": "code",
   "execution_count": 292,
   "id": "4587474d",
   "metadata": {},
   "outputs": [
    {
     "name": "stdout",
     "output_type": "stream",
     "text": [
      "3.144068642123117\n",
      "1.7731521768091754\n"
     ]
    }
   ],
   "source": [
    "from math import sqrt\n",
    "train_preds = knn_model.predict(X_train)\n",
    "mse = mean_squared_error(y_train, train_preds)\n",
    "rmse = sqrt(mse)\n",
    "print(mse)\n",
    "print(rmse)"
   ]
  },
  {
   "cell_type": "code",
   "execution_count": 293,
   "id": "dfffe854",
   "metadata": {},
   "outputs": [
    {
     "data": {
      "text/plain": [
       "2.581036433226739"
      ]
     },
     "execution_count": 293,
     "metadata": {},
     "output_type": "execute_result"
    }
   ],
   "source": [
    "test_preds = knn_model.predict(X_test)\n",
    "mse = mean_squared_error(y_test, test_preds)\n",
    "rmse = sqrt(mse)\n",
    "rmse"
   ]
  },
  {
   "cell_type": "markdown",
   "id": "46dd8ac6",
   "metadata": {},
   "source": [
    "## Improving KNN Performances in scikit-learn Using GridSearchCV\n"
   ]
  },
  {
   "cell_type": "markdown",
   "id": "345306e8",
   "metadata": {},
   "source": [
    "Until now, we’ve always worked with k=3 in the kNN algorithm, but the best value for k is something that you need to find empirically for each dataset.\n",
    "\n",
    "If we use one neighbor only, the prediction can strongly change from one point to the other. When we think about your own neighbors, one may be quite different from the others. If we lived next to an outlier, our 1-NN prediction would be wrong.\n"
   ]
  },
  {
   "cell_type": "code",
   "execution_count": 294,
   "id": "f92b05a6",
   "metadata": {},
   "outputs": [],
   "source": [
    "knn_model = KNeighborsRegressor()\n",
    "\n",
    "parameters = {\"n_neighbors\": range(2, 40),\n",
    "              \"weights\": [\"uniform\", \"distance\"]}"
   ]
  },
  {
   "cell_type": "markdown",
   "id": "95f3307e",
   "metadata": {},
   "source": [
    "GRID SEARCH AND CROSS VALIDATION\n",
    "### To find the best value for k, let's use GridSearchCV from scikit-learn, a tool for tuning hyperparameters of machine learning models.\n",
    "\n",
    "Also, maybe the performance can be better by using a weighted average instead of a regular average over the k neighbors. i.e., more distant neighbors will influence the prediction less than nearest ones.\n",
    "\n",
    "We can do this by setting \"distance\" as weights parameter value. So, let's add this option to GridSearchCV, and for the cross validation scheme, we are going to set 10 folds."
   ]
  },
  {
   "cell_type": "code",
   "execution_count": 295,
   "id": "f730df79",
   "metadata": {},
   "outputs": [
    {
     "data": {
      "text/html": [
       "<style>#sk-container-id-27 {color: black;background-color: white;}#sk-container-id-27 pre{padding: 0;}#sk-container-id-27 div.sk-toggleable {background-color: white;}#sk-container-id-27 label.sk-toggleable__label {cursor: pointer;display: block;width: 100%;margin-bottom: 0;padding: 0.3em;box-sizing: border-box;text-align: center;}#sk-container-id-27 label.sk-toggleable__label-arrow:before {content: \"▸\";float: left;margin-right: 0.25em;color: #696969;}#sk-container-id-27 label.sk-toggleable__label-arrow:hover:before {color: black;}#sk-container-id-27 div.sk-estimator:hover label.sk-toggleable__label-arrow:before {color: black;}#sk-container-id-27 div.sk-toggleable__content {max-height: 0;max-width: 0;overflow: hidden;text-align: left;background-color: #f0f8ff;}#sk-container-id-27 div.sk-toggleable__content pre {margin: 0.2em;color: black;border-radius: 0.25em;background-color: #f0f8ff;}#sk-container-id-27 input.sk-toggleable__control:checked~div.sk-toggleable__content {max-height: 200px;max-width: 100%;overflow: auto;}#sk-container-id-27 input.sk-toggleable__control:checked~label.sk-toggleable__label-arrow:before {content: \"▾\";}#sk-container-id-27 div.sk-estimator input.sk-toggleable__control:checked~label.sk-toggleable__label {background-color: #d4ebff;}#sk-container-id-27 div.sk-label input.sk-toggleable__control:checked~label.sk-toggleable__label {background-color: #d4ebff;}#sk-container-id-27 input.sk-hidden--visually {border: 0;clip: rect(1px 1px 1px 1px);clip: rect(1px, 1px, 1px, 1px);height: 1px;margin: -1px;overflow: hidden;padding: 0;position: absolute;width: 1px;}#sk-container-id-27 div.sk-estimator {font-family: monospace;background-color: #f0f8ff;border: 1px dotted black;border-radius: 0.25em;box-sizing: border-box;margin-bottom: 0.5em;}#sk-container-id-27 div.sk-estimator:hover {background-color: #d4ebff;}#sk-container-id-27 div.sk-parallel-item::after {content: \"\";width: 100%;border-bottom: 1px solid gray;flex-grow: 1;}#sk-container-id-27 div.sk-label:hover label.sk-toggleable__label {background-color: #d4ebff;}#sk-container-id-27 div.sk-serial::before {content: \"\";position: absolute;border-left: 1px solid gray;box-sizing: border-box;top: 0;bottom: 0;left: 50%;z-index: 0;}#sk-container-id-27 div.sk-serial {display: flex;flex-direction: column;align-items: center;background-color: white;padding-right: 0.2em;padding-left: 0.2em;position: relative;}#sk-container-id-27 div.sk-item {position: relative;z-index: 1;}#sk-container-id-27 div.sk-parallel {display: flex;align-items: stretch;justify-content: center;background-color: white;position: relative;}#sk-container-id-27 div.sk-item::before, #sk-container-id-27 div.sk-parallel-item::before {content: \"\";position: absolute;border-left: 1px solid gray;box-sizing: border-box;top: 0;bottom: 0;left: 50%;z-index: -1;}#sk-container-id-27 div.sk-parallel-item {display: flex;flex-direction: column;z-index: 1;position: relative;background-color: white;}#sk-container-id-27 div.sk-parallel-item:first-child::after {align-self: flex-end;width: 50%;}#sk-container-id-27 div.sk-parallel-item:last-child::after {align-self: flex-start;width: 50%;}#sk-container-id-27 div.sk-parallel-item:only-child::after {width: 0;}#sk-container-id-27 div.sk-dashed-wrapped {border: 1px dashed gray;margin: 0 0.4em 0.5em 0.4em;box-sizing: border-box;padding-bottom: 0.4em;background-color: white;}#sk-container-id-27 div.sk-label label {font-family: monospace;font-weight: bold;display: inline-block;line-height: 1.2em;}#sk-container-id-27 div.sk-label-container {text-align: center;}#sk-container-id-27 div.sk-container {/* jupyter's `normalize.less` sets `[hidden] { display: none; }` but bootstrap.min.css set `[hidden] { display: none !important; }` so we also need the `!important` here to be able to override the default hidden behavior on the sphinx rendered scikit-learn.org. See: https://github.com/scikit-learn/scikit-learn/issues/21755 */display: inline-block !important;position: relative;}#sk-container-id-27 div.sk-text-repr-fallback {display: none;}</style><div id=\"sk-container-id-27\" class=\"sk-top-container\"><div class=\"sk-text-repr-fallback\"><pre>GridSearchCV(cv=10, estimator=KNeighborsRegressor(),\n",
       "             param_grid={&#x27;n_neighbors&#x27;: range(2, 40),\n",
       "                         &#x27;weights&#x27;: [&#x27;uniform&#x27;, &#x27;distance&#x27;]})</pre><b>In a Jupyter environment, please rerun this cell to show the HTML representation or trust the notebook. <br />On GitHub, the HTML representation is unable to render, please try loading this page with nbviewer.org.</b></div><div class=\"sk-container\" hidden><div class=\"sk-item sk-dashed-wrapped\"><div class=\"sk-label-container\"><div class=\"sk-label sk-toggleable\"><input class=\"sk-toggleable__control sk-hidden--visually\" id=\"sk-estimator-id-47\" type=\"checkbox\" ><label for=\"sk-estimator-id-47\" class=\"sk-toggleable__label sk-toggleable__label-arrow\">GridSearchCV</label><div class=\"sk-toggleable__content\"><pre>GridSearchCV(cv=10, estimator=KNeighborsRegressor(),\n",
       "             param_grid={&#x27;n_neighbors&#x27;: range(2, 40),\n",
       "                         &#x27;weights&#x27;: [&#x27;uniform&#x27;, &#x27;distance&#x27;]})</pre></div></div></div><div class=\"sk-parallel\"><div class=\"sk-parallel-item\"><div class=\"sk-item\"><div class=\"sk-label-container\"><div class=\"sk-label sk-toggleable\"><input class=\"sk-toggleable__control sk-hidden--visually\" id=\"sk-estimator-id-48\" type=\"checkbox\" ><label for=\"sk-estimator-id-48\" class=\"sk-toggleable__label sk-toggleable__label-arrow\">estimator: KNeighborsRegressor</label><div class=\"sk-toggleable__content\"><pre>KNeighborsRegressor()</pre></div></div></div><div class=\"sk-serial\"><div class=\"sk-item\"><div class=\"sk-estimator sk-toggleable\"><input class=\"sk-toggleable__control sk-hidden--visually\" id=\"sk-estimator-id-49\" type=\"checkbox\" ><label for=\"sk-estimator-id-49\" class=\"sk-toggleable__label sk-toggleable__label-arrow\">KNeighborsRegressor</label><div class=\"sk-toggleable__content\"><pre>KNeighborsRegressor()</pre></div></div></div></div></div></div></div></div></div></div>"
      ],
      "text/plain": [
       "GridSearchCV(cv=10, estimator=KNeighborsRegressor(),\n",
       "             param_grid={'n_neighbors': range(2, 40),\n",
       "                         'weights': ['uniform', 'distance']})"
      ]
     },
     "execution_count": 295,
     "metadata": {},
     "output_type": "execute_result"
    }
   ],
   "source": [
    "gridsearch_knn = GridSearchCV(KNeighborsRegressor(), parameters, cv=10)\n",
    "gridsearch_knn.fit(X_train, y_train)"
   ]
  },
  {
   "cell_type": "code",
   "execution_count": 296,
   "id": "78d40802",
   "metadata": {},
   "outputs": [
    {
     "data": {
      "text/plain": [
       "{'n_neighbors': 27, 'weights': 'distance'}"
      ]
     },
     "execution_count": 296,
     "metadata": {},
     "output_type": "execute_result"
    }
   ],
   "source": [
    "gridsearch_knn.best_params_"
   ]
  },
  {
   "cell_type": "code",
   "execution_count": 297,
   "id": "c02b1eac",
   "metadata": {},
   "outputs": [
    {
     "name": "stdout",
     "output_type": "stream",
     "text": [
      "0.0\n",
      "2.355572686147516\n"
     ]
    }
   ],
   "source": [
    "train_preds_grid = gridsearch_knn.predict(X_train)\n",
    "train_mse = mean_squared_error(y_train, train_preds_grid)\n",
    "train_rmse = sqrt(train_mse)\n",
    "test_preds_grid = gridsearch_knn.predict(X_test)\n",
    "test_mse = mean_squared_error(y_test, test_preds_grid)\n",
    "test_rmse = sqrt(test_mse)\n",
    "print(train_rmse)\n",
    "print(test_rmse)"
   ]
  },
  {
   "cell_type": "markdown",
   "id": "2b5904a2",
   "metadata": {},
   "source": [
    "Using GridSearchCV, we reduced the test RMSE from 2.581 to 2.356"
   ]
  },
  {
   "cell_type": "markdown",
   "id": "0e46c96b",
   "metadata": {},
   "source": [
    "# 4.BAGGING (Ensemble method that fits a large number of models with slight variations in each fit)\n",
    "As ensemble methods are often better than single models, let's try Bagging (an ensemble method that fits a large number of the models with slight fit variations) with 100 estimators."
   ]
  },
  {
   "cell_type": "markdown",
   "id": "efaaea9e",
   "metadata": {},
   "source": [
    "### Advantages of Bagging in Machine Learning\n",
    "-Bagging minimizes the overfitting of data     \n",
    "-It improves the model’s accuracy    \n",
    "-It deals with higher dimensional data efficiently\n"
   ]
  },
  {
   "cell_type": "code",
   "execution_count": 264,
   "id": "016cd6c6",
   "metadata": {},
   "outputs": [],
   "source": [
    "best_k = gridsearch_knn.best_params_[\"n_neighbors\"]\n",
    "best_weights = gridsearch_knn.best_params_[\"weights\"]\n",
    "\n",
    "bagged_knn = KNeighborsRegressor(n_neighbors=best_k, weights=best_weights)"
   ]
  },
  {
   "cell_type": "code",
   "execution_count": 265,
   "id": "ab6199dd",
   "metadata": {},
   "outputs": [
    {
     "data": {
      "text/html": [
       "<style>#sk-container-id-25 {color: black;background-color: white;}#sk-container-id-25 pre{padding: 0;}#sk-container-id-25 div.sk-toggleable {background-color: white;}#sk-container-id-25 label.sk-toggleable__label {cursor: pointer;display: block;width: 100%;margin-bottom: 0;padding: 0.3em;box-sizing: border-box;text-align: center;}#sk-container-id-25 label.sk-toggleable__label-arrow:before {content: \"▸\";float: left;margin-right: 0.25em;color: #696969;}#sk-container-id-25 label.sk-toggleable__label-arrow:hover:before {color: black;}#sk-container-id-25 div.sk-estimator:hover label.sk-toggleable__label-arrow:before {color: black;}#sk-container-id-25 div.sk-toggleable__content {max-height: 0;max-width: 0;overflow: hidden;text-align: left;background-color: #f0f8ff;}#sk-container-id-25 div.sk-toggleable__content pre {margin: 0.2em;color: black;border-radius: 0.25em;background-color: #f0f8ff;}#sk-container-id-25 input.sk-toggleable__control:checked~div.sk-toggleable__content {max-height: 200px;max-width: 100%;overflow: auto;}#sk-container-id-25 input.sk-toggleable__control:checked~label.sk-toggleable__label-arrow:before {content: \"▾\";}#sk-container-id-25 div.sk-estimator input.sk-toggleable__control:checked~label.sk-toggleable__label {background-color: #d4ebff;}#sk-container-id-25 div.sk-label input.sk-toggleable__control:checked~label.sk-toggleable__label {background-color: #d4ebff;}#sk-container-id-25 input.sk-hidden--visually {border: 0;clip: rect(1px 1px 1px 1px);clip: rect(1px, 1px, 1px, 1px);height: 1px;margin: -1px;overflow: hidden;padding: 0;position: absolute;width: 1px;}#sk-container-id-25 div.sk-estimator {font-family: monospace;background-color: #f0f8ff;border: 1px dotted black;border-radius: 0.25em;box-sizing: border-box;margin-bottom: 0.5em;}#sk-container-id-25 div.sk-estimator:hover {background-color: #d4ebff;}#sk-container-id-25 div.sk-parallel-item::after {content: \"\";width: 100%;border-bottom: 1px solid gray;flex-grow: 1;}#sk-container-id-25 div.sk-label:hover label.sk-toggleable__label {background-color: #d4ebff;}#sk-container-id-25 div.sk-serial::before {content: \"\";position: absolute;border-left: 1px solid gray;box-sizing: border-box;top: 0;bottom: 0;left: 50%;z-index: 0;}#sk-container-id-25 div.sk-serial {display: flex;flex-direction: column;align-items: center;background-color: white;padding-right: 0.2em;padding-left: 0.2em;position: relative;}#sk-container-id-25 div.sk-item {position: relative;z-index: 1;}#sk-container-id-25 div.sk-parallel {display: flex;align-items: stretch;justify-content: center;background-color: white;position: relative;}#sk-container-id-25 div.sk-item::before, #sk-container-id-25 div.sk-parallel-item::before {content: \"\";position: absolute;border-left: 1px solid gray;box-sizing: border-box;top: 0;bottom: 0;left: 50%;z-index: -1;}#sk-container-id-25 div.sk-parallel-item {display: flex;flex-direction: column;z-index: 1;position: relative;background-color: white;}#sk-container-id-25 div.sk-parallel-item:first-child::after {align-self: flex-end;width: 50%;}#sk-container-id-25 div.sk-parallel-item:last-child::after {align-self: flex-start;width: 50%;}#sk-container-id-25 div.sk-parallel-item:only-child::after {width: 0;}#sk-container-id-25 div.sk-dashed-wrapped {border: 1px dashed gray;margin: 0 0.4em 0.5em 0.4em;box-sizing: border-box;padding-bottom: 0.4em;background-color: white;}#sk-container-id-25 div.sk-label label {font-family: monospace;font-weight: bold;display: inline-block;line-height: 1.2em;}#sk-container-id-25 div.sk-label-container {text-align: center;}#sk-container-id-25 div.sk-container {/* jupyter's `normalize.less` sets `[hidden] { display: none; }` but bootstrap.min.css set `[hidden] { display: none !important; }` so we also need the `!important` here to be able to override the default hidden behavior on the sphinx rendered scikit-learn.org. See: https://github.com/scikit-learn/scikit-learn/issues/21755 */display: inline-block !important;position: relative;}#sk-container-id-25 div.sk-text-repr-fallback {display: none;}</style><div id=\"sk-container-id-25\" class=\"sk-top-container\"><div class=\"sk-text-repr-fallback\"><pre>BaggingRegressor(base_estimator=KNeighborsRegressor(n_neighbors=27,\n",
       "                                                    weights=&#x27;distance&#x27;),\n",
       "                 n_estimators=100)</pre><b>In a Jupyter environment, please rerun this cell to show the HTML representation or trust the notebook. <br />On GitHub, the HTML representation is unable to render, please try loading this page with nbviewer.org.</b></div><div class=\"sk-container\" hidden><div class=\"sk-item sk-dashed-wrapped\"><div class=\"sk-label-container\"><div class=\"sk-label sk-toggleable\"><input class=\"sk-toggleable__control sk-hidden--visually\" id=\"sk-estimator-id-43\" type=\"checkbox\" ><label for=\"sk-estimator-id-43\" class=\"sk-toggleable__label sk-toggleable__label-arrow\">BaggingRegressor</label><div class=\"sk-toggleable__content\"><pre>BaggingRegressor(base_estimator=KNeighborsRegressor(n_neighbors=27,\n",
       "                                                    weights=&#x27;distance&#x27;),\n",
       "                 n_estimators=100)</pre></div></div></div><div class=\"sk-parallel\"><div class=\"sk-parallel-item\"><div class=\"sk-item\"><div class=\"sk-label-container\"><div class=\"sk-label sk-toggleable\"><input class=\"sk-toggleable__control sk-hidden--visually\" id=\"sk-estimator-id-44\" type=\"checkbox\" ><label for=\"sk-estimator-id-44\" class=\"sk-toggleable__label sk-toggleable__label-arrow\">base_estimator: KNeighborsRegressor</label><div class=\"sk-toggleable__content\"><pre>KNeighborsRegressor(n_neighbors=27, weights=&#x27;distance&#x27;)</pre></div></div></div><div class=\"sk-serial\"><div class=\"sk-item\"><div class=\"sk-estimator sk-toggleable\"><input class=\"sk-toggleable__control sk-hidden--visually\" id=\"sk-estimator-id-45\" type=\"checkbox\" ><label for=\"sk-estimator-id-45\" class=\"sk-toggleable__label sk-toggleable__label-arrow\">KNeighborsRegressor</label><div class=\"sk-toggleable__content\"><pre>KNeighborsRegressor(n_neighbors=27, weights=&#x27;distance&#x27;)</pre></div></div></div></div></div></div></div></div></div></div>"
      ],
      "text/plain": [
       "BaggingRegressor(base_estimator=KNeighborsRegressor(n_neighbors=27,\n",
       "                                                    weights='distance'),\n",
       "                 n_estimators=100)"
      ]
     },
     "execution_count": 265,
     "metadata": {},
     "output_type": "execute_result"
    }
   ],
   "source": [
    "bagging_model = BaggingRegressor(bagged_knn, n_estimators=100)\n",
    "bagging_model.fit(X_train, y_train)"
   ]
  },
  {
   "cell_type": "markdown",
   "id": "d1505316",
   "metadata": {},
   "source": [
    "Finally, lets check the root-mean-square error on test data:"
   ]
  },
  {
   "cell_type": "code",
   "execution_count": 233,
   "id": "2b4910a9",
   "metadata": {},
   "outputs": [
    {
     "data": {
      "text/plain": [
       "2.3517441471949354"
      ]
     },
     "execution_count": 233,
     "metadata": {},
     "output_type": "execute_result"
    }
   ],
   "source": [
    "test_preds_bagg = bagging_model.predict(X_test)\n",
    "rmse = np.sqrt(mean_squared_error(y_test, test_preds_bagg))\n",
    "rmse"
   ]
  },
  {
   "cell_type": "markdown",
   "id": "368f16ab",
   "metadata": {},
   "source": [
    "I tend to think that this is not a huge improvement (from 2.356 to 2.352), it is better, but it is not worth it, at least it seems so on this dataset.\n"
   ]
  },
  {
   "cell_type": "code",
   "execution_count": 312,
   "id": "8ba804e4",
   "metadata": {},
   "outputs": [],
   "source": [
    "#iteratively doing for k(neighbours)\n",
    "import warnings\n",
    "warnings.filterwarnings(\"ignore\")\n",
    "\n",
    "difference_knn_bagging=pd.DataFrame(columns=['neighbours','knn_rmse',' bagging_rmse','difference'])\n",
    "\n",
    "for k in range(1, 30):\n",
    "    bagged_knn = KNeighborsRegressor(n_neighbors=k, weights=best_weights)\n",
    "    bagged_knn.fit(X_train, y_train)\n",
    "    test_preds_knn = bagged_knn.predict(X_test)\n",
    "    knn_rmse=np.sqrt(mean_squared_error(y_test, test_preds_knn))\n",
    "    \n",
    "    bagging_model = BaggingRegressor(bagged_knn, n_estimators=100)\n",
    "    bagging_model.fit(X_train, y_train)\n",
    "    test_preds_bagg = bagging_model.predict(X_test)\n",
    "    bagging_rmse=np.sqrt(mean_squared_error(y_test, test_preds_bagg))\n",
    "    \n",
    "    difference=knn_rmse-bagging_rmse\n",
    "    difference_knn_bagging=difference_knn_bagging.append({'neighbours':k,'knn_rmse':knn_rmse,' bagging_rmse':  bagging_rmse,'difference':difference},ignore_index=True)\n",
    "    \n",
    "\n"
   ]
  },
  {
   "cell_type": "code",
   "execution_count": 311,
   "id": "d0896c28",
   "metadata": {},
   "outputs": [
    {
     "data": {
      "text/html": [
       "<div>\n",
       "<style scoped>\n",
       "    .dataframe tbody tr th:only-of-type {\n",
       "        vertical-align: middle;\n",
       "    }\n",
       "\n",
       "    .dataframe tbody tr th {\n",
       "        vertical-align: top;\n",
       "    }\n",
       "\n",
       "    .dataframe thead th {\n",
       "        text-align: right;\n",
       "    }\n",
       "</style>\n",
       "<table border=\"1\" class=\"dataframe\">\n",
       "  <thead>\n",
       "    <tr style=\"text-align: right;\">\n",
       "      <th></th>\n",
       "      <th>neighbours</th>\n",
       "      <th>knn_rmse</th>\n",
       "      <th>bagging_rmse</th>\n",
       "      <th>difference</th>\n",
       "    </tr>\n",
       "  </thead>\n",
       "  <tbody>\n",
       "    <tr>\n",
       "      <th>0</th>\n",
       "      <td>1.0000</td>\n",
       "      <td>2.9647</td>\n",
       "      <td>2.5940</td>\n",
       "      <td>0.3707</td>\n",
       "    </tr>\n",
       "    <tr>\n",
       "      <th>1</th>\n",
       "      <td>2.0000</td>\n",
       "      <td>2.6565</td>\n",
       "      <td>2.5244</td>\n",
       "      <td>0.1321</td>\n",
       "    </tr>\n",
       "    <tr>\n",
       "      <th>2</th>\n",
       "      <td>3.0000</td>\n",
       "      <td>2.5675</td>\n",
       "      <td>2.4699</td>\n",
       "      <td>0.0976</td>\n",
       "    </tr>\n",
       "    <tr>\n",
       "      <th>3</th>\n",
       "      <td>4.0000</td>\n",
       "      <td>2.4929</td>\n",
       "      <td>2.4384</td>\n",
       "      <td>0.0545</td>\n",
       "    </tr>\n",
       "    <tr>\n",
       "      <th>4</th>\n",
       "      <td>5.0000</td>\n",
       "      <td>2.4532</td>\n",
       "      <td>2.4117</td>\n",
       "      <td>0.0415</td>\n",
       "    </tr>\n",
       "    <tr>\n",
       "      <th>5</th>\n",
       "      <td>6.0000</td>\n",
       "      <td>2.4196</td>\n",
       "      <td>2.4026</td>\n",
       "      <td>0.0170</td>\n",
       "    </tr>\n",
       "    <tr>\n",
       "      <th>6</th>\n",
       "      <td>7.0000</td>\n",
       "      <td>2.3919</td>\n",
       "      <td>2.3752</td>\n",
       "      <td>0.0166</td>\n",
       "    </tr>\n",
       "    <tr>\n",
       "      <th>7</th>\n",
       "      <td>8.0000</td>\n",
       "      <td>2.3858</td>\n",
       "      <td>2.3702</td>\n",
       "      <td>0.0156</td>\n",
       "    </tr>\n",
       "    <tr>\n",
       "      <th>8</th>\n",
       "      <td>9.0000</td>\n",
       "      <td>2.3702</td>\n",
       "      <td>2.3542</td>\n",
       "      <td>0.0161</td>\n",
       "    </tr>\n",
       "    <tr>\n",
       "      <th>9</th>\n",
       "      <td>10.0000</td>\n",
       "      <td>2.3685</td>\n",
       "      <td>2.3524</td>\n",
       "      <td>0.0161</td>\n",
       "    </tr>\n",
       "    <tr>\n",
       "      <th>10</th>\n",
       "      <td>11.0000</td>\n",
       "      <td>2.3671</td>\n",
       "      <td>2.3506</td>\n",
       "      <td>0.0165</td>\n",
       "    </tr>\n",
       "    <tr>\n",
       "      <th>11</th>\n",
       "      <td>12.0000</td>\n",
       "      <td>2.3561</td>\n",
       "      <td>2.3476</td>\n",
       "      <td>0.0085</td>\n",
       "    </tr>\n",
       "    <tr>\n",
       "      <th>12</th>\n",
       "      <td>13.0000</td>\n",
       "      <td>2.3483</td>\n",
       "      <td>2.3445</td>\n",
       "      <td>0.0038</td>\n",
       "    </tr>\n",
       "    <tr>\n",
       "      <th>13</th>\n",
       "      <td>14.0000</td>\n",
       "      <td>2.3504</td>\n",
       "      <td>2.3483</td>\n",
       "      <td>0.0021</td>\n",
       "    </tr>\n",
       "    <tr>\n",
       "      <th>14</th>\n",
       "      <td>15.0000</td>\n",
       "      <td>2.3504</td>\n",
       "      <td>2.3454</td>\n",
       "      <td>0.0050</td>\n",
       "    </tr>\n",
       "    <tr>\n",
       "      <th>15</th>\n",
       "      <td>16.0000</td>\n",
       "      <td>2.3533</td>\n",
       "      <td>2.3485</td>\n",
       "      <td>0.0048</td>\n",
       "    </tr>\n",
       "    <tr>\n",
       "      <th>16</th>\n",
       "      <td>17.0000</td>\n",
       "      <td>2.3521</td>\n",
       "      <td>2.3472</td>\n",
       "      <td>0.0049</td>\n",
       "    </tr>\n",
       "    <tr>\n",
       "      <th>17</th>\n",
       "      <td>18.0000</td>\n",
       "      <td>2.3543</td>\n",
       "      <td>2.3496</td>\n",
       "      <td>0.0047</td>\n",
       "    </tr>\n",
       "    <tr>\n",
       "      <th>18</th>\n",
       "      <td>19.0000</td>\n",
       "      <td>2.3545</td>\n",
       "      <td>2.3486</td>\n",
       "      <td>0.0059</td>\n",
       "    </tr>\n",
       "    <tr>\n",
       "      <th>19</th>\n",
       "      <td>20.0000</td>\n",
       "      <td>2.3575</td>\n",
       "      <td>2.3460</td>\n",
       "      <td>0.0114</td>\n",
       "    </tr>\n",
       "    <tr>\n",
       "      <th>20</th>\n",
       "      <td>21.0000</td>\n",
       "      <td>2.3479</td>\n",
       "      <td>2.3486</td>\n",
       "      <td>-0.0007</td>\n",
       "    </tr>\n",
       "    <tr>\n",
       "      <th>21</th>\n",
       "      <td>22.0000</td>\n",
       "      <td>2.3490</td>\n",
       "      <td>2.3482</td>\n",
       "      <td>0.0008</td>\n",
       "    </tr>\n",
       "    <tr>\n",
       "      <th>22</th>\n",
       "      <td>23.0000</td>\n",
       "      <td>2.3467</td>\n",
       "      <td>2.3499</td>\n",
       "      <td>-0.0033</td>\n",
       "    </tr>\n",
       "    <tr>\n",
       "      <th>23</th>\n",
       "      <td>24.0000</td>\n",
       "      <td>2.3526</td>\n",
       "      <td>2.3483</td>\n",
       "      <td>0.0044</td>\n",
       "    </tr>\n",
       "    <tr>\n",
       "      <th>24</th>\n",
       "      <td>25.0000</td>\n",
       "      <td>2.3531</td>\n",
       "      <td>2.3516</td>\n",
       "      <td>0.0016</td>\n",
       "    </tr>\n",
       "    <tr>\n",
       "      <th>25</th>\n",
       "      <td>26.0000</td>\n",
       "      <td>2.3614</td>\n",
       "      <td>2.3517</td>\n",
       "      <td>0.0097</td>\n",
       "    </tr>\n",
       "    <tr>\n",
       "      <th>26</th>\n",
       "      <td>27.0000</td>\n",
       "      <td>2.3556</td>\n",
       "      <td>2.3471</td>\n",
       "      <td>0.0085</td>\n",
       "    </tr>\n",
       "    <tr>\n",
       "      <th>27</th>\n",
       "      <td>28.0000</td>\n",
       "      <td>2.3555</td>\n",
       "      <td>2.3528</td>\n",
       "      <td>0.0027</td>\n",
       "    </tr>\n",
       "    <tr>\n",
       "      <th>28</th>\n",
       "      <td>29.0000</td>\n",
       "      <td>2.3553</td>\n",
       "      <td>2.3527</td>\n",
       "      <td>0.0026</td>\n",
       "    </tr>\n",
       "  </tbody>\n",
       "</table>\n",
       "</div>"
      ],
      "text/plain": [
       "    neighbours  knn_rmse   bagging_rmse  difference\n",
       "0       1.0000    2.9647         2.5940      0.3707\n",
       "1       2.0000    2.6565         2.5244      0.1321\n",
       "2       3.0000    2.5675         2.4699      0.0976\n",
       "3       4.0000    2.4929         2.4384      0.0545\n",
       "4       5.0000    2.4532         2.4117      0.0415\n",
       "5       6.0000    2.4196         2.4026      0.0170\n",
       "6       7.0000    2.3919         2.3752      0.0166\n",
       "7       8.0000    2.3858         2.3702      0.0156\n",
       "8       9.0000    2.3702         2.3542      0.0161\n",
       "9      10.0000    2.3685         2.3524      0.0161\n",
       "10     11.0000    2.3671         2.3506      0.0165\n",
       "11     12.0000    2.3561         2.3476      0.0085\n",
       "12     13.0000    2.3483         2.3445      0.0038\n",
       "13     14.0000    2.3504         2.3483      0.0021\n",
       "14     15.0000    2.3504         2.3454      0.0050\n",
       "15     16.0000    2.3533         2.3485      0.0048\n",
       "16     17.0000    2.3521         2.3472      0.0049\n",
       "17     18.0000    2.3543         2.3496      0.0047\n",
       "18     19.0000    2.3545         2.3486      0.0059\n",
       "19     20.0000    2.3575         2.3460      0.0114\n",
       "20     21.0000    2.3479         2.3486     -0.0007\n",
       "21     22.0000    2.3490         2.3482      0.0008\n",
       "22     23.0000    2.3467         2.3499     -0.0033\n",
       "23     24.0000    2.3526         2.3483      0.0044\n",
       "24     25.0000    2.3531         2.3516      0.0016\n",
       "25     26.0000    2.3614         2.3517      0.0097\n",
       "26     27.0000    2.3556         2.3471      0.0085\n",
       "27     28.0000    2.3555         2.3528      0.0027\n",
       "28     29.0000    2.3553         2.3527      0.0026"
      ]
     },
     "execution_count": 311,
     "metadata": {},
     "output_type": "execute_result"
    }
   ],
   "source": [
    "difference_knn_bagging"
   ]
  },
  {
   "cell_type": "markdown",
   "id": "43acafdc",
   "metadata": {},
   "source": [
    "## We can see that unstable learners are likely to give different prediction for modified datasets and likely to benefit from bagging. On the other hand, stable learners (take to the extreme a constant), will give quite similar predictions anyway so bagging won't help."
   ]
  },
  {
   "cell_type": "markdown",
   "id": "80612767",
   "metadata": {},
   "source": [
    "# 5.Classification"
   ]
  },
  {
   "cell_type": "code",
   "execution_count": 314,
   "id": "4d610690",
   "metadata": {},
   "outputs": [],
   "source": [
    "from sklearn.neighbors import KNeighborsClassifier\n",
    "import seaborn as sns\n",
    "import matplotlib.pyplot as plt\n",
    "\n",
    "K = []\n",
    "training = []\n",
    "test = []\n",
    "scores = {}\n",
    "\n",
    "for k in range(1, 20):\n",
    "    clf = KNeighborsClassifier(n_neighbors = k)\n",
    "    clf.fit(X_train, y_train)\n",
    "#Return the mean accuracy\n",
    "    training_score = clf.score(X_train, y_train)\n",
    "    test_score = clf.score(X_test, y_test)\n",
    "    K.append(k)\n",
    "\n",
    "    training.append(training_score)\n",
    "    test.append(test_score)\n",
    "    scores[k] = [training_score,test_score]\n"
   ]
  },
  {
   "cell_type": "code",
   "execution_count": 315,
   "id": "aeee3311",
   "metadata": {},
   "outputs": [
    {
     "name": "stdout",
     "output_type": "stream",
     "text": [
      "1 : [1.0, 0.19736842105263158]\n",
      "2 : [0.5944328045495361, 0.2236842105263158]\n",
      "3 : [0.5178090392098175, 0.21052631578947367]\n",
      "4 : [0.4771026638730919, 0.21889952153110048]\n",
      "5 : [0.4510625561209219, 0.21770334928229665]\n",
      "6 : [0.4235258904519605, 0.22248803827751196]\n",
      "7 : [0.40915893445076323, 0.23564593301435408]\n",
      "8 : [0.3849146961987429, 0.24401913875598086]\n",
      "9 : [0.3762346602813529, 0.2511961722488038]\n",
      "10 : [0.37084705178090394, 0.2583732057416268]\n",
      "11 : [0.3669560011972463, 0.2535885167464115]\n",
      "12 : [0.3648608201137384, 0.2511961722488038]\n",
      "13 : [0.3516911104459743, 0.24043062200956938]\n",
      "14 : [0.34660281352888356, 0.2511961722488038]\n",
      "15 : [0.34091589344507633, 0.2631578947368421]\n",
      "16 : [0.3358275965279856, 0.25]\n",
      "17 : [0.33552828494462733, 0.2511961722488038]\n",
      "18 : [0.33822208919485186, 0.25717703349282295]\n",
      "19 : [0.3322358575276863, 0.25]\n"
     ]
    }
   ],
   "source": [
    "for keys, values in scores.items():\n",
    "    print(keys, ':', values)"
   ]
  },
  {
   "cell_type": "markdown",
   "id": "4306c6a1",
   "metadata": {},
   "source": [
    " Let’s see how these scores vary as we increase the value of n_neighbors (or K)\n",
    "### At K=1, the KNN tends to closely follow the training data and thus shows a high training score. However, in comparison, the test score is quite low, thus indicating overfitting.\n",
    "\n",
    "## As we see in this figure, the model yields the best results at K=4."
   ]
  },
  {
   "cell_type": "code",
   "execution_count": 324,
   "id": "1dd50ca2",
   "metadata": {},
   "outputs": [
    {
     "data": {
      "text/plain": [
       "<matplotlib.legend.Legend at 0x7fe313998730>"
      ]
     },
     "execution_count": 324,
     "metadata": {},
     "output_type": "execute_result"
    },
    {
     "data": {
      "image/png": "[encoded data removed]",
      "text/plain": [
       "<Figure size 500x500 with 1 Axes>"
      ]
     },
     "metadata": {},
     "output_type": "display_data"
    }
   ],
   "source": [
    "plt.figure(figsize=(5,5))\n",
    "plt.scatter(K, training, color ='b',label='Training Score')\n",
    "plt.scatter(K, test, color ='g',label='Test Score')\n",
    "plt.legend()\n",
    "# For overlapping scatter plots\n"
   ]
  },
  {
   "cell_type": "code",
   "execution_count": 317,
   "id": "46a79250",
   "metadata": {},
   "outputs": [
    {
     "data": {
      "text/plain": [
       "0.21889952153110048"
      ]
     },
     "execution_count": 317,
     "metadata": {},
     "output_type": "execute_result"
    }
   ],
   "source": [
    "#import confusion_matrix\n",
    "from sklearn.metrics import confusion_matrix\n",
    "#Setup a knn classifier with k neighbors\n",
    "knn = KNeighborsClassifier(n_neighbors=4)\n",
    "knn.fit(X_train,y_train)\n",
    "#Get accuracy. Note: In case of classification algorithms score method represents accuracy.\n",
    "knn.score(X_test,y_test)"
   ]
  },
  {
   "cell_type": "code",
   "execution_count": 318,
   "id": "7567287d",
   "metadata": {},
   "outputs": [],
   "source": [
    "#let us get the predictions using the classifier we had fit above\n",
    "y_pred = knn.predict(X_test)"
   ]
  },
  {
   "cell_type": "code",
   "execution_count": 319,
   "id": "601bc7f6",
   "metadata": {},
   "outputs": [
    {
     "data": {
      "text/plain": [
       "array([[ 1,  2,  0,  0,  0,  0,  0,  0,  0,  0,  0,  0,  0,  0,  0,  0,\n",
       "         0,  0,  0,  0,  0],\n",
       "       [ 5,  4,  3,  1,  0,  0,  0,  0,  0,  0,  0,  0,  0,  0,  0,  0,\n",
       "         0,  0,  0,  0,  0],\n",
       "       [ 4, 10,  7,  8,  3,  0,  0,  0,  0,  0,  0,  0,  0,  0,  0,  0,\n",
       "         0,  0,  0,  0,  0],\n",
       "       [ 1,  1,  5, 16, 13,  7,  3,  1,  0,  0,  1,  0,  0,  0,  0,  0,\n",
       "         0,  0,  0,  0,  0],\n",
       "       [ 0,  0,  6, 24, 17, 21, 11,  1,  3,  1,  0,  0,  0,  0,  0,  0,\n",
       "         0,  0,  0,  0,  0],\n",
       "       [ 0,  0,  1,  7, 17, 32, 23, 14,  4,  1,  0,  0,  0,  0,  0,  0,\n",
       "         0,  0,  0,  0,  0],\n",
       "       [ 0,  0,  0,  8, 14, 37, 45, 20, 13,  2,  2,  0,  1,  0,  0,  0,\n",
       "         0,  0,  0,  0,  0],\n",
       "       [ 0,  0,  0,  7,  6, 26, 38, 30, 19,  7,  1,  1,  1,  3,  0,  0,\n",
       "         0,  0,  0,  0,  0],\n",
       "       [ 0,  0,  0,  2,  7, 10, 26, 12, 24,  5,  3,  1,  2,  0,  1,  0,\n",
       "         0,  0,  0,  0,  0],\n",
       "       [ 0,  0,  0,  2,  2,  8,  8, 13,  9,  5,  2,  1,  1,  0,  0,  0,\n",
       "         0,  0,  0,  0,  0],\n",
       "       [ 0,  0,  0,  1,  2,  5,  9,  9,  2,  2,  0,  1,  0,  0,  0,  0,\n",
       "         0,  0,  0,  0,  0],\n",
       "       [ 0,  0,  0,  0,  0,  3,  6,  6,  5,  2,  1,  1,  1,  0,  0,  0,\n",
       "         0,  1,  0,  0,  0],\n",
       "       [ 0,  0,  0,  0,  0,  2,  6,  6,  2,  1,  3,  0,  0,  0,  1,  0,\n",
       "         0,  0,  0,  0,  0],\n",
       "       [ 0,  0,  0,  0,  0,  1,  1,  1,  3,  1,  2,  1,  1,  1,  0,  0,\n",
       "         0,  1,  0,  0,  0],\n",
       "       [ 0,  0,  0,  0,  1,  1,  2,  0,  3,  1,  0,  0,  0,  0,  0,  0,\n",
       "         0,  0,  0,  0,  0],\n",
       "       [ 0,  0,  0,  0,  0,  2,  2,  4,  0,  2,  1,  0,  0,  0,  0,  0,\n",
       "         0,  1,  0,  0,  0],\n",
       "       [ 0,  0,  0,  0,  0,  1,  1,  1,  0,  0,  2,  0,  1,  0,  0,  0,\n",
       "         0,  1,  0,  0,  0],\n",
       "       [ 0,  0,  0,  0,  0,  0,  1,  0,  2,  1,  0,  0,  0,  0,  0,  0,\n",
       "         0,  0,  0,  0,  0],\n",
       "       [ 0,  0,  0,  0,  1,  0,  0,  0,  1,  0,  0,  0,  1,  0,  0,  0,\n",
       "         0,  0,  0,  0,  0],\n",
       "       [ 0,  0,  0,  0,  0,  0,  0,  1,  1,  0,  0,  0,  1,  0,  0,  0,\n",
       "         0,  0,  0,  0,  0],\n",
       "       [ 0,  0,  0,  0,  0,  0,  0,  1,  2,  0,  0,  0,  0,  1,  0,  0,\n",
       "         0,  0,  0,  0,  0]])"
      ]
     },
     "execution_count": 319,
     "metadata": {},
     "output_type": "execute_result"
    }
   ],
   "source": [
    "confusion_matrix(y_test,y_pred)"
   ]
  },
  {
   "cell_type": "code",
   "execution_count": 320,
   "id": "02d58dd2",
   "metadata": {},
   "outputs": [
    {
     "name": "stdout",
     "output_type": "stream",
     "text": [
      "              precision    recall  f1-score   support\n",
      "\n",
      "           3       0.09      0.33      0.14         3\n",
      "           4       0.24      0.31      0.27        13\n",
      "           5       0.32      0.22      0.26        32\n",
      "           6       0.21      0.33      0.26        48\n",
      "           7       0.20      0.20      0.20        84\n",
      "           8       0.21      0.32      0.25        99\n",
      "           9       0.25      0.32      0.28       142\n",
      "          10       0.25      0.22      0.23       139\n",
      "          11       0.26      0.26      0.26        93\n",
      "          12       0.16      0.10      0.12        51\n",
      "          13       0.00      0.00      0.00        31\n",
      "          14       0.17      0.04      0.06        26\n",
      "          15       0.00      0.00      0.00        21\n",
      "          16       0.20      0.08      0.11        13\n",
      "          17       0.00      0.00      0.00         8\n",
      "          18       0.00      0.00      0.00        12\n",
      "          19       0.00      0.00      0.00         7\n",
      "          20       0.00      0.00      0.00         4\n",
      "          21       0.00      0.00      0.00         3\n",
      "          22       0.00      0.00      0.00         3\n",
      "          23       0.00      0.00      0.00         4\n",
      "\n",
      "    accuracy                           0.22       836\n",
      "   macro avg       0.12      0.13      0.12       836\n",
      "weighted avg       0.20      0.22      0.21       836\n",
      "\n"
     ]
    }
   ],
   "source": [
    "#import classification_report\n",
    "from sklearn.metrics import classification_report\n",
    "print(classification_report(y_test,y_pred))"
   ]
  },
  {
   "cell_type": "code",
   "execution_count": null,
   "id": "6ff341e7",
   "metadata": {},
   "outputs": [],
   "source": []
  },
  {
   "cell_type": "code",
   "execution_count": null,
   "id": "06550b4b",
   "metadata": {},
   "outputs": [],
   "source": []
  },
  {
   "cell_type": "code",
   "execution_count": null,
   "id": "2fff5f8a",
   "metadata": {},
   "outputs": [],
   "source": []
  }
 ],
 "metadata": {
  "kernelspec": {
   "display_name": "Python 3 (ipykernel)",
   "language": "python",
   "name": "python3"
  },
  "language_info": {
   "codemirror_mode": {
    "name": "ipython",
    "version": 3
   },
   "file_extension": ".py",
   "mimetype": "text/x-python",
   "name": "python",
   "nbconvert_exporter": "python",
   "pygments_lexer": "ipython3",
   "version": "3.8.13"
  }
 },
 "nbformat": 4,
 "nbformat_minor": 5
}
